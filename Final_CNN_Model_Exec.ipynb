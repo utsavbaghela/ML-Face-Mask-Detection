{
 "cells": [
  {
   "cell_type": "code",
   "execution_count": 6,
   "id": "033d81b0",
   "metadata": {},
   "outputs": [],
   "source": [
    "import cv2\n",
    "import numpy as np\n",
    "from keras.models import load_model"
   ]
  },
  {
   "cell_type": "code",
   "execution_count": 2,
   "id": "7ffa8eef",
   "metadata": {},
   "outputs": [],
   "source": [
    "model = load_model('CNN_Model.sav')"
   ]
  },
  {
   "cell_type": "code",
   "execution_count": 8,
   "id": "b288636c",
   "metadata": {},
   "outputs": [],
   "source": [
    "haar_classifier = cv2.CascadeClassifier('haarcascade_frontalface_default.xml')\n",
    "\n",
    "video = cv2.VideoCapture(0)\n",
    "video.set(cv2.CAP_PROP_FPS, 60)\n",
    "\n",
    "labels = {0:'NO MASK',1:'MASK'}\n",
    "colors = {0:(0,0,255),1:(0,255,0)}\n",
    "\n",
    "while(True):\n",
    "\n",
    "    ret,img = video.read()\n",
    "    gray_img = cv2.cvtColor(img,cv2.COLOR_BGR2GRAY)\n",
    "    faces_img = haar_classifier.detectMultiScale(gray_img,1.3,5)\n",
    "\n",
    "    for (x,y,w,h) in faces_img:\n",
    "    \n",
    "        image = gray_img[y:y+w,x:x+w]\n",
    "        resize_img = cv2.resize(image,(100,100))\n",
    "        norm_img = resize_img/255.0\n",
    "        reshape_img = np.reshape(norm_img,(1,100,100,1))\n",
    "        output = model.predict(reshape_img)\n",
    "        \n",
    "        lab = np.argmax(output, axis=1)[0]\n",
    "      \n",
    "        cv2.rectangle(img,(x,y),(x+w,y+h),colors[lab],2)\n",
    "        cv2.rectangle(img,(x,y-40),(x+w,y),colors[lab],-1)\n",
    "        cv2.putText(img, labels[lab], (x, y-10),cv2.FONT_HERSHEY_SIMPLEX,0.8,(255,255,255),2)\n",
    "         \n",
    "    cv2.imshow('Image',img)\n",
    "    key=cv2.waitKey(1)\n",
    "    \n",
    "    if(key==27):\n",
    "        break\n",
    "        \n",
    "cv2.destroyAllWindows()\n",
    "video.release()"
   ]
  },
  {
   "cell_type": "code",
   "execution_count": null,
   "id": "dad97825",
   "metadata": {},
   "outputs": [],
   "source": []
  }
 ],
 "metadata": {
  "kernelspec": {
   "display_name": "Python 3 (ipykernel)",
   "language": "python",
   "name": "python3"
  },
  "language_info": {
   "codemirror_mode": {
    "name": "ipython",
    "version": 3
   },
   "file_extension": ".py",
   "mimetype": "text/x-python",
   "name": "python",
   "nbconvert_exporter": "python",
   "pygments_lexer": "ipython3",
   "version": "3.9.6"
  }
 },
 "nbformat": 4,
 "nbformat_minor": 5
}
